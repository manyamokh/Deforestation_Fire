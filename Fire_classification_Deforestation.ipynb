{
  "nbformat": 4,
  "nbformat_minor": 0,
  "metadata": {
    "colab": {
      "provenance": []
    },
    "kernelspec": {
      "name": "python3",
      "display_name": "Python 3"
    },
    "language_info": {
      "name": "python"
    }
  },
  "cells": [
    {
      "cell_type": "code",
      "source": [
        "import numpy as np\n",
        "import pandas as pd\n",
        "import matplotlib.pyplot as plt\n",
        "import seaborn as sns\n",
        "from sklearn.model_selection import train_test_split\n",
        "from sklearn.linear_model import LogisticRegression\n",
        "from sklearn.feature_selection import SelectKBest, f_classif, mutual_info_classif\n",
        "from sklearn.ensemble import RandomForestClassifier\n",
        "from sklearn.feature_selection import SelectKBest, f_classif, mutual_info_classif\n",
        "from sklearn.ensemble import RandomForestClassifier\n",
        "from sklearn.preprocessing import StandardScaler\n",
        "from sklearn.metrics import  accuracy_score,classification_report,ConfusionMatrixDisplay\n",
        "from sklearn.neighbors import KNeighborsClassifier\n",
        "from xgboost import XGBClassifier\n",
        "from sklearn.preprocessing import LabelEncoder, OneHotEncoder"
      ],
      "metadata": {
        "id": "7MbWBgrTTCSk"
      },
      "execution_count": null,
      "outputs": []
    },
    {
      "cell_type": "markdown",
      "source": [
        "\n",
        "\n",
        "```\n",
        "# This is formatted as code\n",
        "```\n",
        "\n",
        "# Load the dataset\n"
      ],
      "metadata": {
        "id": "SUCtR-nUTtp_"
      }
    },
    {
      "cell_type": "code",
      "source": [
        "df1 = pd.read_csv('modis_2021_India.csv')\n",
        "df2 = pd.read_csv('modis_2022_India.csv')\n",
        "df3 = pd.read_csv('modis_2023_India.csv')"
      ],
      "metadata": {
        "id": "YcQykV6STn3n"
      },
      "execution_count": null,
      "outputs": []
    },
    {
      "cell_type": "code",
      "source": [
        "df1.head()"
      ],
      "metadata": {
        "id": "Sboxv3tITxDX"
      },
      "execution_count": null,
      "outputs": []
    },
    {
      "cell_type": "code",
      "source": [
        "df2.head()"
      ],
      "metadata": {
        "id": "8Q60FvbgVLLh"
      },
      "execution_count": null,
      "outputs": []
    },
    {
      "cell_type": "code",
      "source": [
        "df3.head()"
      ],
      "metadata": {
        "id": "PpjNo_CoVNob"
      },
      "execution_count": null,
      "outputs": []
    },
    {
      "cell_type": "code",
      "source": [
        "df = pd.concat([df1, df2, df3], ignore_index=True)\n",
        "df.head()"
      ],
      "metadata": {
        "id": "CVHH-dZ4VQay"
      },
      "execution_count": null,
      "outputs": []
    },
    {
      "cell_type": "code",
      "source": [
        "df.shape #rows and cols"
      ],
      "metadata": {
        "id": "BoXlAZ83VTCf"
      },
      "execution_count": null,
      "outputs": []
    },
    {
      "cell_type": "code",
      "source": [
        "df.info() #dt,memc"
      ],
      "metadata": {
        "id": "NteWWbe0VXrm"
      },
      "execution_count": null,
      "outputs": []
    },
    {
      "cell_type": "code",
      "source": [
        "df.isnull().sum()"
      ],
      "metadata": {
        "id": "Nh1M6IjuVfxy"
      },
      "execution_count": null,
      "outputs": []
    },
    {
      "cell_type": "code",
      "source": [
        "df.duplicated().sum()"
      ],
      "metadata": {
        "id": "eZ6xtHqNVjJ1"
      },
      "execution_count": null,
      "outputs": []
    },
    {
      "cell_type": "code",
      "source": [
        "df.columns"
      ],
      "metadata": {
        "id": "VVQkQstoVlCY"
      },
      "execution_count": null,
      "outputs": []
    },
    {
      "cell_type": "code",
      "source": [
        "df.describe().T"
      ],
      "metadata": {
        "id": "yT2d7SK0VnF4"
      },
      "execution_count": null,
      "outputs": []
    },
    {
      "cell_type": "code",
      "source": [
        "df.type.value_counts()"
      ],
      "metadata": {
        "id": "-GH3hSfPVta_"
      },
      "execution_count": null,
      "outputs": []
    },
    {
      "cell_type": "code",
      "source": [
        "for col in df.columns:\n",
        "  if df[col].dtype == 'object':\n",
        "    print(f\"Column: {col}\")\n",
        "    print(f\"Unique values: {df[col].unique()}\")\n",
        "    print(f\"Number of unique values: {df[col].nunique()}\")\n",
        "    print(\"-\" * 50)"
      ],
      "metadata": {
        "id": "C6VRH86XVwFv"
      },
      "execution_count": null,
      "outputs": []
    },
    {
      "cell_type": "code",
      "source": [
        "# Count plot for 'type'\n",
        "plt.figure(figsize=(8, 6))\n",
        "sns.countplot(x='type', data=df)\n",
        "plt.title('Distribution of Fire Types')\n",
        "plt.xlabel('Fire Type')\n",
        "plt.ylabel('Count')\n",
        "plt.show()"
      ],
      "metadata": {
        "id": "yBaj6BOqVzJF"
      },
      "execution_count": null,
      "outputs": []
    },
    {
      "cell_type": "code",
      "source": [
        "plt.figure(figsize=(8, 6))\n",
        "sns.histplot(df['confidence'], bins=20, kde=True)\n",
        "plt.title('Distribution of Confidence')\n",
        "plt.xlabel('Confidence')\n",
        "plt.ylabel('Frequency')\n",
        "plt.show()"
      ],
      "metadata": {
        "id": "Pc8Ktd_HV17j"
      },
      "execution_count": null,
      "outputs": []
    },
    {
      "cell_type": "code",
      "source": [
        "plt.figure(figsize=(8, 6))\n",
        "sns.boxplot(x='type', y='confidence', data=df)\n",
        "plt.title('Confidence by Fire Type')\n",
        "plt.xlabel('Fire Type')\n",
        "plt.ylabel('Confidence')\n",
        "plt.show()\n"
      ],
      "metadata": {
        "id": "_5VASjbZV41f"
      },
      "execution_count": null,
      "outputs": []
    },
    {
      "cell_type": "code",
      "source": [
        "plt.figure(figsize=(10, 8))\n",
        "sns.scatterplot(x='longitude', y='latitude', data=df, hue='type', s=10)\n",
        "plt.title('Fire Locations by Type')\n",
        "plt.xlabel('Longitude')\n",
        "plt.ylabel('Latitude')\n",
        "plt.legend(title='Fire Type')\n",
        "plt.show()"
      ],
      "metadata": {
        "id": "A9Y-IBxWdEpO"
      },
      "execution_count": null,
      "outputs": []
    },
    {
      "cell_type": "code",
      "source": [
        "# Count plot for 'daynight'\n",
        "plt.figure(figsize=(6, 4))\n",
        "sns.countplot(x='daynight', data=df)\n",
        "plt.title('Distribution of Day/Night Observations')\n",
        "plt.xlabel('Day/Night')\n",
        "plt.ylabel('Count')\n",
        "plt.show()"
      ],
      "metadata": {
        "id": "xd-4bsoUdg3H"
      },
      "execution_count": null,
      "outputs": []
    },
    {
      "cell_type": "code",
      "source": [
        "# Count plot for 'Satellite'\n",
        "plt.figure(figsize=(6, 4))\n",
        "sns.countplot(x='satellite', data=df)\n",
        "plt.title('Distribution of Satellite Observations')\n",
        "plt.xlabel('Satellite')\n",
        "plt.ylabel('Count')\n",
        "plt.show()"
      ],
      "metadata": {
        "id": "RcHIP-_QdpKA"
      },
      "execution_count": null,
      "outputs": []
    },
    {
      "cell_type": "code",
      "source": [
        "# Count plot for 'version'\n",
        "plt.figure(figsize=(6, 4))\n",
        "sns.countplot(x='version', data=df)\n",
        "plt.title('Distribution of Version')\n",
        "plt.xlabel('Version')\n",
        "plt.ylabel('Count')\n",
        "plt.show()"
      ],
      "metadata": {
        "id": "ypMVBgggdt9V"
      },
      "execution_count": null,
      "outputs": []
    },
    {
      "cell_type": "code",
      "source": [
        "# Heatmap of correlations between numerical features\n",
        "plt.figure(figsize=(10, 8))\n",
        "correlation_matrix = df[['latitude', 'longitude', 'brightness', 'confidence', 'frp']].corr()\n",
        "sns.heatmap(correlation_matrix, annot=True, cmap='coolwarm', fmt=\".2f\")\n",
        "plt.title('Correlation Heatmap of Numerical Features')\n",
        "plt.show()"
      ],
      "metadata": {
        "id": "SY6GmxapdwVE"
      },
      "execution_count": null,
      "outputs": []
    },
    {
      "cell_type": "code",
      "source": [
        "numerical_cols = df.select_dtypes(include=np.number).columns\n"
      ],
      "metadata": {
        "id": "Hh8hZ5BSdzRV"
      },
      "execution_count": null,
      "outputs": []
    },
    {
      "cell_type": "code",
      "source": [
        "numerical_cols\n"
      ],
      "metadata": {
        "id": "tX48u6twd2TJ"
      },
      "execution_count": null,
      "outputs": []
    },
    {
      "cell_type": "code",
      "source": [
        "numerical_cols = ['brightness', 'scan', 'track', 'acq_time','confidence', 'version', 'bright_t31', 'frp']\n",
        "df[numerical_cols].hist(bins=50, figsize=(15, 10))\n",
        "plt.suptitle('Histograms of Numerical Features')\n",
        "plt.show()\n"
      ],
      "metadata": {
        "id": "mUj6z4WfeNb1"
      },
      "execution_count": null,
      "outputs": []
    },
    {
      "cell_type": "code",
      "source": [
        "import statsmodels.api as sm\n",
        "import scipy.stats as stats\n",
        "\n",
        "numerical_features = ['brightness', 'confidence', 'frp', 'bright_t31', 'scan', 'track']\n",
        "\n",
        "for feature in numerical_features:\n",
        "    print(f\"Analyzing distribution for: {feature}\")\n",
        "\n",
        "    plt.figure(figsize=(12, 5))\n",
        "\n",
        "    plt.subplot(1, 2, 1)\n",
        "    sns.kdeplot(df[feature], fill=True)\n",
        "    plt.title(f'KDE Plot of {feature}')\n",
        "    plt.xlabel(feature)\n",
        "    plt.ylabel('Density')\n",
        "\n",
        "    # QQ Plot\n",
        "    plt.subplot(1, 2, 2)\n",
        "    stats.probplot(df[feature], dist=\"norm\", plot=plt)\n",
        "    plt.title(f'QQ Plot of {feature}')\n",
        "\n",
        "    plt.tight_layout()\n",
        "    plt.show()\n",
        "    print(\"-\" * 50)"
      ],
      "metadata": {
        "id": "yd9mGzlzePPT"
      },
      "execution_count": null,
      "outputs": []
    },
    {
      "cell_type": "code",
      "source": [
        "df['acq_date'] = pd.to_datetime(df['acq_date'])\n",
        "df['year'] = df['acq_date'].dt.year\n",
        "df['month'] = df['acq_date'].dt.month\n",
        "df['day_of_week'] = df['acq_date'].dt.dayofweek # Monday=0, Sunday=6\n",
        "df['day_of_year'] = df['acq_date'].dt.dayofyear\n",
        "df['hour'] = df['acq_time'].astype(str).str[:2].astype(int) # Assuming acq_time is HHMM"
      ],
      "metadata": {
        "id": "J-NUNjaaeYYC"
      },
      "execution_count": null,
      "outputs": []
    },
    {
      "cell_type": "code",
      "source": [
        "plt.figure(figsize=(10, 6))\n",
        "sns.countplot(data=df, x='month', palette='viridis')\n",
        "plt.title('Fire Detections by Month (2023)')\n",
        "plt.xlabel('Month')\n",
        "plt.ylabel('Number of Detections')\n",
        "plt.xticks(ticks=range(12), labels=['Jan', 'Feb', 'Mar', 'Apr', 'May', 'Jun', 'Jul', 'Aug', 'Sep', 'Oct', 'Nov', 'Dec'])\n",
        "plt.show()"
      ],
      "metadata": {
        "id": "WMhio5ozehgT"
      },
      "execution_count": null,
      "outputs": []
    },
    {
      "cell_type": "code",
      "source": [
        "plt.figure(figsize=(10, 6))\n",
        "sns.countplot(data=df, x='day_of_week', palette='viridis')\n",
        "plt.title('Fire Detections by Day of Week (2023)')\n",
        "plt.xlabel('Day of Week')\n",
        "plt.ylabel('Number of Detections')\n",
        "plt.xticks(ticks=range(7), labels=['Mon', 'Tue', 'Wed', 'Thu', 'Fri', 'Sat', 'Sun'])\n",
        "plt.show()"
      ],
      "metadata": {
        "id": "zeiwjILMelPQ"
      },
      "execution_count": null,
      "outputs": []
    },
    {
      "cell_type": "markdown",
      "source": [
        "## Outliers and Outlier Treatments\n"
      ],
      "metadata": {
        "id": "9t3hHofVerv6"
      }
    },
    {
      "cell_type": "code",
      "source": [
        "plt.figure(figsize=(12, 8))\n",
        "sns.boxplot(data=df[numerical_cols])\n",
        "plt.title('Box Plots for Key Numerical Features')\n",
        "plt.ylabel('Value')\n",
        "plt.show()"
      ],
      "metadata": {
        "id": "nGv3ucM_eoHc"
      },
      "execution_count": null,
      "outputs": []
    },
    {
      "cell_type": "code",
      "source": [
        "def remove_outliers_iqr(df, column):\n",
        "  Q1 = df[column].quantile(0.25)\n",
        "  Q3 = df[column].quantile(0.75)\n",
        "  IQR = Q3 - Q1\n",
        "  lower_bound = Q1 - 1.5 * IQR\n",
        "  upper_bound = Q3 + 1.5 * IQR\n",
        "  df_cleaned = df[(df[column] >= lower_bound) & (df[column] <= upper_bound)].copy()\n",
        "  return df_cleaned\n",
        "\n",
        "# Apply outlier removal to numerical columns\n",
        "for col in numerical_cols:\n",
        "  df = remove_outliers_iqr(df, col)\n",
        "\n",
        "print(\"Shape after removing outliers:\", df.shape)"
      ],
      "metadata": {
        "id": "pTZkL02eeuWC"
      },
      "execution_count": null,
      "outputs": []
    },
    {
      "cell_type": "code",
      "source": [
        "plt.figure(figsize=(12, 8))\n",
        "sns.boxplot(data=df[numerical_cols])\n",
        "plt.title('Box Plots for Numerical Features After Outlier Removal')\n",
        "plt.ylabel('Value')\n",
        "plt.show()"
      ],
      "metadata": {
        "id": "rMX1DcHIe3VF"
      },
      "execution_count": null,
      "outputs": []
    },
    {
      "cell_type": "code",
      "source": [
        "df.head()\n"
      ],
      "metadata": {
        "id": "lpUONDywe5xc"
      },
      "execution_count": null,
      "outputs": []
    },
    {
      "cell_type": "code",
      "source": [
        "df.type.value_counts()\n"
      ],
      "metadata": {
        "id": "No8AIDy4e-ZJ"
      },
      "execution_count": null,
      "outputs": []
    },
    {
      "cell_type": "code",
      "source": [
        "categorical_cols = df.select_dtypes(include='object').columns\n"
      ],
      "metadata": {
        "id": "5PayawQAfABE"
      },
      "execution_count": null,
      "outputs": []
    },
    {
      "cell_type": "code",
      "source": [
        "categorical_cols\n"
      ],
      "metadata": {
        "id": "BoLVTBqffBvI"
      },
      "execution_count": null,
      "outputs": []
    },
    {
      "cell_type": "code",
      "source": [
        "categorical_cols_to_encode = ['daynight', 'satellite', 'instrument']\n",
        "\n",
        "df_encoded = pd.get_dummies(df, columns=categorical_cols_to_encode, drop_first=True)"
      ],
      "metadata": {
        "id": "Mw5fsvCofDgF"
      },
      "execution_count": null,
      "outputs": []
    },
    {
      "cell_type": "code",
      "source": [
        "df_encoded.head(100)\n"
      ],
      "metadata": {
        "id": "0Jna-0eBfI_1"
      },
      "execution_count": null,
      "outputs": []
    },
    {
      "cell_type": "code",
      "source": [
        "df_encoded.type.value_counts()\n"
      ],
      "metadata": {
        "id": "oBWe7fyMfvpc"
      },
      "execution_count": null,
      "outputs": []
    },
    {
      "cell_type": "markdown",
      "source": [
        "[link text](https://)## pip install folium - if needed use this\n"
      ],
      "metadata": {
        "id": "8C69OGi6f0O1"
      }
    },
    {
      "cell_type": "code",
      "source": [
        "# !pip install folium\n",
        "import folium\n",
        "\n",
        "# Create map and sample data\n",
        "india_map = folium.Map(location=[22.351115, 78.667743], zoom_start=5)\n",
        "sample_df = df_encoded.sample(n=min(10000, len(df_encoded)), random_state=42)\n",
        "\n",
        "# Add markers\n",
        "for _, row in sample_df.iterrows():\n",
        "    folium.CircleMarker(\n",
        "        location=[row['latitude'], row['longitude']],\n",
        "        radius=3,\n",
        "        color='red',\n",
        "        fill=True,\n",
        "        fill_opacity=0.6,\n",
        "        popup=f\"FRP: {row['frp']:.2f}, Date: {row['acq_date'].strftime('%Y-%m-%d')}\"\n",
        "    ).add_to(india_map)\n",
        "\n",
        "display(india_map)"
      ],
      "metadata": {
        "id": "IPk-PNMafyHi"
      },
      "execution_count": null,
      "outputs": []
    },
    {
      "cell_type": "markdown",
      "source": [
        "## Normalize continuous variables"
      ],
      "metadata": {
        "id": "3zeQP1AnM6jp"
      }
    },
    {
      "cell_type": "code",
      "source": [
        "scaler = StandardScaler()\n",
        "numerical_cols_to_scale = ['brightness', 'scan', 'track', 'confidence', 'bright_t31', 'frp']\n",
        "df_encoded[numerical_cols_to_scale] = scaler.fit_transform(df_encoded[numerical_cols_to_scale])\n",
        "df_encoded.head()"
      ],
      "metadata": {
        "id": "J9nMPTPRf3f7"
      },
      "execution_count": null,
      "outputs": []
    },
    {
      "cell_type": "code",
      "source": [
        "df_encoded.info()"
      ],
      "metadata": {
        "id": "-RIHukMDM-f_"
      },
      "execution_count": null,
      "outputs": []
    },
    {
      "cell_type": "code",
      "source": [
        "plt.figure(figsize=(10, 8))\n",
        "correlation_matrix = df_encoded[['brightness', 'scan', 'track', 'confidence', 'bright_t31', 'frp']].corr()\n",
        "sns.heatmap(correlation_matrix, annot=True, cmap='coolwarm', fmt=\".2f\")\n",
        "plt.title('Correlation Heatmap of Numerical Features')\n",
        "plt.show()"
      ],
      "metadata": {
        "id": "Ss00X0YANiBz"
      },
      "execution_count": null,
      "outputs": []
    },
    {
      "cell_type": "code",
      "source": [
        "df_encoded.head()"
      ],
      "metadata": {
        "id": "RnRx2-xPNknb"
      },
      "execution_count": null,
      "outputs": []
    },
    {
      "cell_type": "code",
      "source": [
        "df_encoded.type.value_counts()"
      ],
      "metadata": {
        "id": "gVnZ6Q8QNmsK"
      },
      "execution_count": null,
      "outputs": []
    },
    {
      "cell_type": "code",
      "source": [
        "features = ['brightness', 'scan', 'track', 'confidence', 'bright_t31', 'frp']\n",
        "target = 'type'\n",
        "\n",
        "X = df_encoded[features]\n",
        "y = df_encoded[target]"
      ],
      "metadata": {
        "id": "eJ9eftCmNoiy"
      },
      "execution_count": null,
      "outputs": []
    },
    {
      "cell_type": "code",
      "source": [
        "X"
      ],
      "metadata": {
        "id": "zzYj3zfkNqSg"
      },
      "execution_count": null,
      "outputs": []
    },
    {
      "cell_type": "code",
      "source": [
        "y"
      ],
      "metadata": {
        "id": "v9N2tHC9Nsan"
      },
      "execution_count": null,
      "outputs": []
    },
    {
      "cell_type": "code",
      "source": [
        "!pip install -U imbalanced-learn\n",
        "from imblearn.over_sampling import SMOTE"
      ],
      "metadata": {
        "id": "znsXENhbNt7e"
      },
      "execution_count": null,
      "outputs": []
    },
    {
      "cell_type": "code",
      "source": [
        "smote = SMOTE(random_state=42)\n",
        "\n",
        "# Apply SMOTE to the training data\n",
        "X_resampled, y_resampled = smote.fit_resample(X, y)\n",
        "\n",
        "# Check the distribution of the target variable after resampling\n",
        "print(\"Distribution of target variable after SMOTE:\")\n",
        "print(y_resampled.value_counts())"
      ],
      "metadata": {
        "id": "TTrsv_UoNwx4"
      },
      "execution_count": null,
      "outputs": []
    },
    {
      "cell_type": "code",
      "source": [],
      "metadata": {
        "id": "sPcDEw1eNzKl"
      },
      "execution_count": null,
      "outputs": []
    }
  ]
}